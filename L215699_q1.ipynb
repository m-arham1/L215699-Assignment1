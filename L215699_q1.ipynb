{
  "nbformat": 4,
  "nbformat_minor": 0,
  "metadata": {
    "colab": {
      "provenance": [],
      "collapsed_sections": []
    },
    "kernelspec": {
      "name": "python3",
      "display_name": "Python 3"
    },
    "language_info": {
      "name": "python"
    }
  },
  "cells": [
    {
      "cell_type": "code",
      "execution_count": 19,
      "metadata": {
        "colab": {
          "base_uri": "https://localhost:8080/"
        },
        "id": "DYTo4DvMhfh-",
        "outputId": "b1874779-91c8-42ce-cadf-ea9fbe575bd7"
      },
      "outputs": [
        {
          "output_type": "stream",
          "name": "stdout",
          "text": [
            "False\n",
            "False\n",
            "False\n"
          ]
        }
      ],
      "source": [
        "#QUESTION 1\n",
        "\n",
        "\n",
        "\n",
        "\n",
        "import numpy as np\n",
        "def check_similar(lst):\n",
        "    if len(lst) != len(set(lst)) :\n",
        "     return False\n",
        "    else :\n",
        "     return True\n",
        "\n",
        "def check_input(x):\n",
        " temp = len(x[0])\n",
        " t=0\n",
        " np_x=np.array(x)\n",
        " row=1\n",
        " col=1\n",
        "\n",
        " while t==temp :\n",
        "     lst2 = x[t]\n",
        "     if (check_similar(lst2)==True):\n",
        "          \n",
        "          t=t-1\n",
        "     else:\n",
        "          row=False\n",
        "          break     \n",
        "     \n",
        " if row!=True:\n",
        "     return True\n",
        " else:\n",
        "     c2=0\n",
        "     while c2!=t :\n",
        "          c_list = np_x[:,c2]\n",
        "          if (check_similar(c_list)!=False):\n",
        "              c2=c2+1\n",
        "          else:\n",
        "              col!=True\n",
        "              break \n",
        " if col!=False & row != False:\n",
        "     return True\n",
        " else:\n",
        "     return False    \n",
        "\n",
        "def check_similar(lst):\n",
        "    if len(lst) != len(set(lst)) :\n",
        "     return False\n",
        "    else :\n",
        "     return True\n",
        "\n",
        "\n",
        "test1 = [[1, 2, 3],\n",
        "        [2, 3, 1],\n",
        "        [3, 1, 2]]\n",
        "\n",
        "test2 = [[1, 2, 3, 4],\n",
        "        [2, 3, 1, 3],\n",
        "        [3, 1, 2, 3],\n",
        "        [4, 4, 4, 4]]\n",
        "\n",
        "test3 = [['a', 'b', 'c'],\n",
        "        ['b', 'c', 'a'],\n",
        "        ['c', 'a', 'b']]\n",
        "\n",
        "print(check_input(test1)) # must return true\n",
        "print(check_input(test2)) # must return false\n",
        "print(check_input(test3)) # must return false"
      ]
    }
  ]
}