{
  "nbformat": 4,
  "nbformat_minor": 0,
  "metadata": {
    "colab": {
      "provenance": [],
      "collapsed_sections": []
    },
    "kernelspec": {
      "name": "python3",
      "display_name": "Python 3"
    },
    "language_info": {
      "name": "python"
    }
  },
  "cells": [
    {
      "cell_type": "code",
      "execution_count": null,
      "metadata": {
        "id": "hssQM7TS2JHo"
      },
      "outputs": [],
      "source": [
        "import numpy as np\n",
        "import pandas as pd\n",
        "import matplotlib.pyplot as mp\n",
        "\n",
        "file = pd.read_csv(\"StudentMarkSheet.csv\")\n",
        "nfile = file.dropna(axis=0,how='any')\n",
        "np_file=np.array(nfile)\n",
        "subjects=np_file[:,1]\n",
        "marks=np.array(np_file[:,3])\n",
        "bio=marks[subjects=='Bio']\n",
        "math=marks[subjects=='Math']\n",
        "chem=marks[subjects=='Chem']\n",
        "phy=marks[subjects=='Phy']\n",
        "philo=marks[subjects=='Philo']\n",
        "socio=marks[subjects=='Socio']\n",
        "\n",
        "\n",
        "#------------CALCULATION FOR AVERAGE------------------\n",
        "avgbio=np.mean(bio)\n",
        "avgmath=np.mean(math)\n",
        "avgchem=np.mean(chem)\n",
        "avgphy=np.mean(phy)\n",
        "avgphilo=np.mean(philo)\n",
        "avgsocio=np.mean(socio)\n",
        "#------------PLOTTING OF GRAPH------------------\n",
        "xlable=[\"Bio\",\"Chem\",\"Phy\",\"Philo\",\"Socio\",\"Math\"]\n",
        "ylable=[avgbio,avgchem,avgphy,avgphilo,avgsocio,avgmath]\n",
        "mp.bar(xlable,ylable)\n",
        "mp.show()"
      ]
    }
  ]
}